{
 "cells": [
  {
   "cell_type": "markdown",
   "id": "7ce6be02",
   "metadata": {},
   "source": [
    "# CMPSCI 389 HW2a\n",
    "##### Assigned: Feb 22 2023; Due: Mar 1 2023 @ 11:59 pm EST\n",
    "\n",
    "#### Abstract\n",
    "It’s time! We’re making a proper Multi-layer neural network – well, you are at least.\n",
    "\n",
    "Instead of just doing matrix multiplication we’re also going to include non-linearities. This can be a bit of a headache (not gonna lie to you), but if you think about the computation graph and have the patience to read my dumb comments you’ll be fine – I promise! And yes you still need to use Latex, I’m not backing down on that."
   ]
  },
  {
   "attachments": {},
   "cell_type": "markdown",
   "id": "b5a35f14",
   "metadata": {},
   "source": [
    "### 1) Primer – what’s different?\n",
    "So, now that we’re in the realm of multi-layer perceptrons (MLP), things are going to get a little more complicated. In particular we are going to have multiple layers (essentially perceptrons with multiple outputs), which will have weight **matrices**, denoted as ($W_{0}$,$W_{1}$,...,$W_{L}$ for $L$ layers) which will have dimensions of (input size, output size), where the input and output size are the corresponding input and output size of that layer – size is the number of neurons in that layer.\n",
    "\n",
    "For example we could have a two layer MLP which would then have a $W_{0}$ and $W_{1}$. The data given may have $M$ input features and $C$ output features. In this case we know the sizes of the weight matrices must have be $W_{0} = (M, A)$ and $W_{1} = (A, C)$ where A is some number that we choose. The important part of this is that the first layer must have first dimension equal to the size of the input and the final layer must have final dimension equal to the output size. Everything else is up to us – as long as the match. Hope that landed, but I bet it will by the end of the HW.\n",
    "\n",
    "![example neural network](L_Layer_Net.png)\n",
    "\n",
    "\\begin{align}\n",
    "    \\text{Figure 1: Example of a L layer neural network – **this is not including a nonlinearity**}\n",
    "\\end{align}\n",
    "\n",
    "The second major change is that we will include a nonlinearity operation, *σ*, after every layer of our MLP, **besides the final layer**. This *σ* must be a nonlinear function and will be taken on the entire output of each layer.\n",
    "\n",
    "Because of these two changes we must make use of backpropogation (finding the gradient layer by layer without repeat- ing calculation) and must also remember the output of each layer of the NN (you’ll see why when we do the computation graph – yeah I’m going to make you do one of those)\n",
    "\n",
    "In the coding part we’re going to refer to the output of a certain layer, *layer*, and its corresponding nonlinearity as *$A_{layer+1}$* . This would make the output of the first ($W_{0}$) layer be represented by $A_{1}$. If you actually read all of this use the *$A_{layer+1}$* notation in the computation graph so I know you’re a ~~tryhard~~ good student."
   ]
  },
  {
   "attachments": {},
   "cell_type": "markdown",
   "id": "0739184b",
   "metadata": {},
   "source": [
    "### 2) Math! and other stuff that will help you (30 points)\n",
    "Do the math:\n",
    "\n",
    "1. For the following nonlinearity, calculate the derivative of it w.r.t (with respect to) its input (this is kind of tricky, but if you get stuck the answers in lecture (you didn’t hear it from me). Give it a try first though, pretty please):\n",
    "\n",
    "\\begin{align}\n",
    "    σ(X) = \\frac{1}{1+e^{X}}\n",
    "\\end{align}\n",
    "\n",
    "\\begin{align}\n",
    "    \\frac{∂σ}{∂X}= (1 - \\sigma (X) ) \\sigma (X)\n",
    "\\end{align}"
   ]
  },
  {
   "cell_type": "markdown",
   "id": "0d6579a8",
   "metadata": {},
   "source": []
  },
  {
   "attachments": {},
   "cell_type": "markdown",
   "id": "db7aa161",
   "metadata": {},
   "source": [
    "2. Imagining that we’re using this nonlinearity after a single layer of neural network – calculate the derivative of the output w.r.t the weights.\n",
    "\n",
    "\\begin{align}\n",
    "    \\hat{y} = X \\cdot W + b \\text{  and  } σ(\\hat{y}) = \\frac{1}{1+e^{\\hat{y}}}\n",
    "\\end{align}\n",
    "\n",
    "also, recall:\n",
    "\n",
    "\\begin{align}\n",
    "    \\frac{∂A}{∂C} = \\frac{∂A}{∂B} * \\frac{∂B}{∂C}\n",
    "\\end{align}\n",
    "\n",
    "solve: \n",
    "\\begin{equation}\n",
    "    \\frac{∂σ}{∂W}= X^T \\cdot (1 - \\sigma(\\hat{y}))\\sigma(\\hat{y})\n",
    "\\end{equation}"
   ]
  },
  {
   "cell_type": "markdown",
   "id": "9e1496ad",
   "metadata": {},
   "source": []
  },
  {
   "attachments": {},
   "cell_type": "markdown",
   "id": "e0713355",
   "metadata": {},
   "source": [
    "3. Now something I’m sure you’ll love – draw a computation graph of a 2 layer neural network (2 weight matrices – using dot product as a basic operation) with nonlinearity, σ, between the layers. I.E :\n",
    "\n",
    "\\begin{align}\n",
    "    \\hat{y} = (σ(X\\cdot W_{0})+b_{0})\\cdot W_{1} + b_{1}\n",
    "\\end{align}"
   ]
  },
  {
   "cell_type": "markdown",
   "id": "15ad47c6",
   "metadata": {},
   "source": []
  },
  {
   "attachments": {},
   "cell_type": "markdown",
   "id": "dbc1af2f",
   "metadata": {},
   "source": [
    "4. Now time to use the computation graph! Use it to solve the following:\n",
    "\n",
    "\\begin{align}\n",
    "    \\frac{∂\\hat{y}}{∂b_{0}} = SUM ( (1 - (σ(X\\cdot W_{0})+b_{0}))(σ(X\\cdot W_{0})+b_{0}) \\cdot W_1^T )\n",
    "\\end{align}\n",
    "\n",
    "\\begin{align}\n",
    "    \\frac{∂\\hat{y}}{∂W_{0}} = X^T \\cdot ((1 - (σ(X\\cdot W_{0})+b_{0}))(σ(X\\cdot W_{0})+b_{0}) \\cdot W_1^T)\n",
    "\\end{align}"
   ]
  },
  {
   "cell_type": "markdown",
   "id": "1161a19b",
   "metadata": {},
   "source": []
  },
  {
   "attachments": {},
   "cell_type": "markdown",
   "id": "abb2ee1f",
   "metadata": {},
   "source": [
    "### 3) CODING! (60 points)\n",
    "So I’ll level with you – this is gonna be a little bit harder than the last one. But using everything you know you’ll be able to do it cause I believe in you! BTW **you need to pip install a package called tqdm** for this hw\n",
    "\n",
    "Primarily, we have a somewhat strange (at first at least) choice to use a dictionary to store everything. This will become tremendously useful though when it comes to doing backpropogation so just trust me I guess ¯\\\\_(ツ)_/¯. You can just run the first block, then beyond that you'll need to fill out each TODO."
   ]
  },
  {
   "cell_type": "code",
   "execution_count": 2,
   "id": "5da06227",
   "metadata": {},
   "outputs": [],
   "source": [
    "import numpy as np\n",
    "import matplotlib.pyplot as plt\n",
    "from typing import Tuple, List\n",
    "from tqdm import tqdm\n",
    "\n",
    "def load_data(file_path: str, label: str)->Tuple[np.ndarray, np.ndarray]:\n",
    "    '''\n",
    "    This function loads and parses text file separated by a ',' character and\n",
    "    returns a data set as two arrays, an array of features, and an array of labels.\n",
    "    Parameters\n",
    "    ----------\n",
    "    file_path : str\n",
    "                path to the file containing the data set\n",
    "    label : str\n",
    "                A label of whether to grab training or testing data\n",
    "    Returns\n",
    "    -------\n",
    "    features : ndarray\n",
    "                2D array of shape (n,c) containing features for the data set\n",
    "    labels : ndarray\n",
    "                2D array of shape (n,d) containing labels for the data set\n",
    "    '''\n",
    "    D = np.genfromtxt(file_path, delimiter=\",\")\n",
    "    if label == \"train\":\n",
    "        features = D[0:800, :-3]  # all columns but the last three\n",
    "        labels = D[0:800, -3:]  # the last 3 columns \n",
    "    else:\n",
    "        features = D[801:1000, :-3]  # all columns but the last three\n",
    "        labels = D[801:1000, -3:]  # the last 3 columns\n",
    "    \n",
    "    return features, labels"
   ]
  },
  {
   "attachments": {},
   "cell_type": "markdown",
   "id": "a5898c84",
   "metadata": {},
   "source": [
    "1. **Initialize the network:** complete the *initialize_network()* method. \n",
    "\n",
    "    For this you’ll recieve a list of layer sizes, *layer_sizes*, which will denote the layer sizes with the first being the input size and the last being the output size, this will tell us what sized weight matrices we'll need.\n",
    "\n",
    "    **Example:** layer_size = [100,1], this will denote a 1-layer network (like a Perceptron), with inputs with 100 features and 1 feature output. Here we'd want a (100 x 1) weight matrix.\n",
    "\n",
    "    **Example 2:** layer_size = [100, 20, 1], here we'd want a 2-layer network that took the same size input and generated the same size output, but first multiplies to size 20 first. here we would need to weight matrices (one of size: (100,20) and another of size (20,1))  \n",
    "\n",
    "    For the weight matrices and bias terms initialize using *np.random.randn()* to sample random numbers between [-1, 1] from a normal distribution (or bell curve or gaussian, all the same). Then use the scale value to scale all of them. These need to be stored in the given dictionary such that the first weight matrix is stored as ”W0” and first bias is ”b0”."
   ]
  },
  {
   "cell_type": "code",
   "execution_count": 3,
   "id": "18d1a516",
   "metadata": {},
   "outputs": [],
   "source": [
    "def initialize_network(layer_sizes : list, scale : float):\n",
    "    \"\"\"\n",
    "    This function will inialize weights for an arbitrary neural network defined by\n",
    "    the number of neurons in each layer, given by 'layer_sizes'\n",
    "    Your weights should be initialized to be numpy arrays composed of random numbers\n",
    "    taken from a gaussian distribution with mean=0 and std=1, then multiplied by scale\n",
    "    Parameters\n",
    "    ----------\n",
    "    layer_sizes : np.ndarray\n",
    "        An array of intergers that denote the number of neurons in each layer\n",
    "        [100, 50, 20] would denote a network with 100 inputs, a hidden layer\n",
    "        with 50 neurons and output of size 20 -- this would mean W_0 would have dimensions (100,50) for example\n",
    "    scale : float\n",
    "        The scale of our initial weights, our weights should mostly be in the range\n",
    "        [-1,1] * scale\n",
    "    \n",
    "    Returns\n",
    "    ---------\n",
    "    init_params : dict\n",
    "        A dictionary that maps labels for parameters to an array of those parameters' \n",
    "        initial values\n",
    "        You MUST have 'W0' map to the first weight matrix, 'W1' to the second, etc. \n",
    "        Hint: \"W\" + str(1) is \"W1\"\n",
    "        AND have the first biases similarly be \"b0\", \"b1\", etc\n",
    "    \"\"\"\n",
    "\n",
    "    init_params = {}\n",
    "\n",
    "    # TODO Initialize the parameter dictionary with weight matrices and biases with random values\n",
    "    # You need to use np.random.randn() to do this -- you can look up the API\n",
    "    # This will give a number sampled from a normal distribution (a bell curve) \n",
    "\n",
    "    for index in range(len(layer_sizes) - 1):\n",
    "        init_params[\"W\"+str(index)] = np.random.randn(layer_sizes[index], layer_sizes[index+1]) * scale\n",
    "        init_params[\"b\"+str(index)] = np.random.randn(layer_sizes[index+1]) * scale\n",
    "\n",
    "    return init_params"
   ]
  },
  {
   "cell_type": "code",
   "execution_count": 4,
   "id": "348ff4c1",
   "metadata": {},
   "outputs": [
    {
     "name": "stdout",
     "output_type": "stream",
     "text": [
      "your output type: <class 'dict'>\n",
      "your output length: 6\n",
      "You should have a dictionary with 6 terms\n",
      "[[ 0.39345851  1.93272628  0.43702091 -1.760977    1.16472951]\n",
      " [ 0.9614373  -1.00890445  1.22197773 -2.19137605 -0.10224454]\n",
      " [-1.53777709 -1.83697359  0.86385973  0.15172785 -0.38518199]\n",
      " [ 0.59347831 -0.58606976 -0.06622311  0.1810524   1.06442179]\n",
      " [-0.22522814  1.16812953  0.0398927  -0.22575375  1.69632743]\n",
      " [-0.1103173  -0.1035706  -0.67203828  1.24676756 -0.62615276]\n",
      " [ 1.25146549 -0.15657231 -1.0631834   0.86241297 -0.90986379]\n",
      " [-0.38854624  0.22613435  0.62870402  0.27775552  0.07194788]\n",
      " [ 0.8874812   0.07707606 -1.26739092  0.37903776 -0.84276798]\n",
      " [-0.45060188 -1.54811938  0.67677135  0.41159034 -2.06456491]\n",
      " [-0.80516942 -1.25635312  0.70486291 -1.55876954 -0.20855445]\n",
      " [-0.7223586  -0.84767658 -0.66633997 -0.57051714  1.68849854]\n",
      " [-0.22053329 -1.86462412  1.06388495  0.34268251  0.50532693]\n",
      " [ 0.31175921  1.15736971 -0.26977577 -0.36799353 -1.08287864]\n",
      " [ 0.08286634  0.15293094 -1.21089873 -1.11509919  1.44391355]\n",
      " [ 0.45179152 -0.94937581  0.06929331 -1.50384782  0.64729169]\n",
      " [-2.19212067  0.37467964 -0.32369624 -0.80113848 -1.69301072]\n",
      " [-0.48250198  0.67767749 -1.7494457  -0.58265299 -0.48545011]\n",
      " [-0.58109063 -1.10674439  0.13315822  1.74338841  0.41893889]\n",
      " [-0.01098561  0.18321625 -1.03358089  1.09022595 -0.46465466]]\n",
      "(20, 5)\n",
      "This should be a 20 x 5 numpy matrix with very small values\n"
     ]
    }
   ],
   "source": [
    "exmaple_layers = [100, 50, 20, 5]\n",
    "example_scale = 1\n",
    "your_output = initialize_network(exmaple_layers, example_scale)\n",
    "\n",
    "print(\"your output type:\",type(your_output) )\n",
    "print(\"your output length:\", len(your_output))\n",
    "print(\"You should have a dictionary with 6 terms\")\n",
    "\n",
    "print(your_output['W2'])\n",
    "print(your_output['W2'].shape)\n",
    "print(\"This should be a 20 x 5 numpy matrix with very small values\")"
   ]
  },
  {
   "cell_type": "markdown",
   "id": "1ccf04c5",
   "metadata": {},
   "source": [
    "2. Next you need to complete the forward for the nonlinearity. Complete the *sigma_forward()* method. The forward is just the calculation of the output of the nonlinear function given some input, IN."
   ]
  },
  {
   "cell_type": "code",
   "execution_count": 5,
   "id": "e7355acf",
   "metadata": {},
   "outputs": [],
   "source": [
    "def sigmoid_forward(OUT: np.ndarray):\n",
    "    \"\"\"\n",
    "    performs the nonlinear function (sigmoid) on the given input and returns the result\n",
    "    this is 1/(1 + e^OUT)\n",
    "\n",
    "    Parameters\n",
    "    ----------\n",
    "    OUT: np.ndarray \n",
    "        The given input to some layer\n",
    "\n",
    "    Returns\n",
    "    ----------\n",
    "    A: np.ndarray \n",
    "        sigma(OUT), this is the output of your sigmoid function given input, OUT,\n",
    "        'A' and 'OUT' are used because these are the labels we will use in the next step,\n",
    "        for now you can ignore the naming.\n",
    "    \"\"\"\n",
    "\n",
    "    ######################################\n",
    "\n",
    "    # TODO Implement the sigmoid function \n",
    "\n",
    "    A = 1/(1 + np.exp(-OUT))\n",
    "    \n",
    "    ######################################\n",
    "\n",
    "    return A"
   ]
  },
  {
   "cell_type": "code",
   "execution_count": 12,
   "id": "fe29d85e",
   "metadata": {},
   "outputs": [
    {
     "name": "stdout",
     "output_type": "stream",
     "text": [
      "[-5.   -4.75 -4.5  -4.25 -4.   -3.75 -3.5  -3.25 -3.   -2.75 -2.5  -2.25\n",
      " -2.   -1.75 -1.5  -1.25 -1.   -0.75 -0.5  -0.25  0.    0.25  0.5   0.75\n",
      "  1.    1.25  1.5   1.75  2.    2.25  2.5   2.75  3.    3.25  3.5   3.75\n",
      "  4.    4.25  4.5   4.75]\n",
      "[0.00669285 0.00857749 0.01098694 0.01406363 0.01798621 0.02297737\n",
      " 0.02931223 0.03732689 0.04742587 0.06008665 0.07585818 0.09534946\n",
      " 0.11920292 0.1480472  0.18242552 0.22270014 0.26894142 0.3208213\n",
      " 0.37754067 0.4378235  0.5        0.5621765  0.62245933 0.6791787\n",
      " 0.73105858 0.77729986 0.81757448 0.8519528  0.88079708 0.90465054\n",
      " 0.92414182 0.93991335 0.95257413 0.96267311 0.97068777 0.97702263\n",
      " 0.98201379 0.98593637 0.98901306 0.99142251]\n"
     ]
    },
    {
     "data": {
      "image/png": "[encoded data removed]",
      "text/plain": [
       "<Figure size 640x480 with 1 Axes>"
      ]
     },
     "metadata": {},
     "output_type": "display_data"
    }
   ],
   "source": [
    "example_inputs = np.arange(-5,5,0.25)\n",
    "your_output = sigmoid_forward(example_inputs)\n",
    "\n",
    "plt.plot(example_inputs, your_output)\n",
    "plt.title(\"Your sigmoid function\")\n",
    "plt.xlabel(\"Input\")\n",
    "plt.ylabel(\"Output\")\n",
    "plt.show()"
   ]
  },
  {
   "attachments": {},
   "cell_type": "markdown",
   "id": "044e084f",
   "metadata": {},
   "source": [
    "3. After this you can put it together with your model to make your full *forward()* method, which will do a forward pass through your entire model (each layer, including the nonlinearities). It’s important to note that the final layer is not followed by a nonlinearity. You also must save every intermittent value in the cache (again for use later).\n",
    "\n",
    "It is important to not only do the forward pass, but also cache the intermittent values so that we (well, *you* ) can do backpropogation next."
   ]
  },
  {
   "cell_type": "code",
   "execution_count": 7,
   "id": "9db3237a",
   "metadata": {},
   "outputs": [],
   "source": [
    "def forward(params: dict, X: np.ndarray):\n",
    "    \"\"\"\n",
    "    This function will perform the forward pass of your backprop algorithm\n",
    "    It will calculate your networks prediction using your parameters and\n",
    "    will keep a cache of all intermittent values (which you need for backprop)\n",
    "    ** YOU MUST COMPLETE THE \"sigmoid_forward()\" method for this part **\n",
    "    Parameters\n",
    "    ----------\n",
    "    params : dict\n",
    "        A dictionary that maps the labels: 'W0', 'W1', etc to their respective\n",
    "        weight matrices -- this is the current state of your params\n",
    "    X : np.ndarray\n",
    "        A 2D numpy array representing input where each row represents a feature vector\n",
    "    \n",
    "    Returns\n",
    "    ---------\n",
    "    prediction : np.ndarray\n",
    "        A 1D numpy array holding the predictions of your network given input X\n",
    "    cache : dict\n",
    "        A dictionary that holds all of the intermittent values calculated during your\n",
    "        forward pass of your network (the 'OUT' and 'A'  of each layer), you must have the\n",
    "        keys of this dictionary be of the form \"AL\" and \"OUTL\" where \"AL\" representes the input\n",
    "        to the L-th layer of weights and \"OUT(L+1)\" is the output after multiplying by weights in Layer L . \n",
    "        \n",
    "        X = OUT0 = A0\n",
    "        XW0 + b0 = OUT1\n",
    "        sigmoid(XW0 + b0) = A1\n",
    "        sigmoid(XW0 + b0)W1 + b1 = OUT2\n",
    "        ... \n",
    "\n",
    "        i.e \"OUT0\" will be the key for exactly the input X and \"A0\" will be (as a special case) also X  \n",
    "        generally \"AL\" will be sigma(\"OUTL\")\n",
    "    \"\"\"\n",
    "    cache = {}\n",
    "\n",
    "    cache[\"A0\"] = np.copy(X)\n",
    "\n",
    "    # TODO -- implement the forward pass of your network\n",
    "\n",
    "    \n",
    "    out = np.copy(X)\n",
    "\n",
    "    cache[\"A0\"] = X\n",
    "    cache[\"OUT0\"] = X\n",
    "\n",
    "    for w in range(len(params)//2):\n",
    "\n",
    "        out = np.dot(out, params[\"W\"+str(w)]) + params[\"b\"+str(w)]\n",
    "\n",
    "        cache[\"OUT\"+str(w+1)] = out\n",
    "\n",
    "        if w < (len(params)//2 - 1):\n",
    "            out = sigmoid_forward(out)\n",
    "            \n",
    "        cache[\"A\"+str(w+1)] = out\n",
    "\n",
    "        \n",
    "    prediction = out\n",
    "\n",
    "    return prediction, cache"
   ]
  },
  {
   "attachments": {},
   "cell_type": "markdown",
   "id": "1f5f17aa",
   "metadata": {},
   "source": [
    "4. Next we are going to start doing the hard part, derivatives! In this step though all you need to do is complete *sigma_backward()* which will calculate the derivative of sigma with respect to its input (whoa! like the math we did!). This method takes its output as an input – why on earth would it do that?? Check out your math! and if it still doesn’t make sense you should check your math."
   ]
  },
  {
   "cell_type": "code",
   "execution_count": 15,
   "id": "344ced73",
   "metadata": {},
   "outputs": [],
   "source": [
    "def sigmoid_backward(A: np.ndarray):\n",
    "    \"\"\"\n",
    "    calculates the derivative of your sigma function give the output of it\n",
    "    Parameters\n",
    "    ----------\n",
    "    A: np.ndarray \n",
    "        sigmoid(OUT), this is the A value (output of the sigma) of \n",
    "        some layer. This is all we need to find dsigma / dOUT believe it or not\n",
    "    Returns\n",
    "    ----------\n",
    "    dsigmoid: np.ndarray\n",
    "        the derivative of sigmoid(OUT) dOUT -- this will use the A value\n",
    "        it will also be very simple\n",
    "    \"\"\"\n",
    "\n",
    "    ######################################\n",
    "\n",
    "    # TODO Implement the derivative of sigmoid \n",
    "\n",
    "    dsigmoid = (1 - A) * A\n",
    "\n",
    "    ######################################\n",
    "\n",
    "    return dsigmoid"
   ]
  },
  {
   "cell_type": "code",
   "execution_count": 17,
   "id": "4eb6bb16",
   "metadata": {},
   "outputs": [
    {
     "name": "stdout",
     "output_type": "stream",
     "text": [
      "yours: [0.     0.1875 0.25   0.1875 0.    ]\n",
      "correct: [0, 0.1875, 0.25, 0.1875, 0]\n"
     ]
    },
    {
     "data": {
      "image/png": "[encoded data removed]",
      "text/plain": [
       "<Figure size 640x480 with 1 Axes>"
      ]
     },
     "metadata": {},
     "output_type": "display_data"
    }
   ],
   "source": [
    "example_A = np.array([1, 0.75, 0.5, 0.25, 0])\n",
    "your_dsigmoid = sigmoid_backward(example_A)\n",
    "\n",
    "print(\"yours:\",your_dsigmoid)\n",
    "print(\"correct:\", [0, 0.1875, 0.25, 0.1875, 0])\n",
    "\n",
    "example_inputs = np.arange(0,1,0.05)\n",
    "your_output = sigmoid_backward(example_inputs)\n",
    "\n",
    "plt.plot(example_inputs, your_output)\n",
    "plt.title(\"Your sigmoid_backward function\")\n",
    "plt.xlabel(\"Input\")\n",
    "plt.ylabel(\"Output\")\n",
    "plt.show()\n"
   ]
  },
  {
   "cell_type": "markdown",
   "id": "24e3919a",
   "metadata": {},
   "source": [
    "5. Well it’s later, time to use the cache! This next step is the heart of your entire homework so it may take a little bit. You are going to complete the *backprop_and_loss()* method which will take your network, your cache, and the true output and calculate the loss as well as the gradient of loss with respect to every parameter (i.e. each ”WL” and ”bL”) and store those gradients in a cache using the same naming convention. **Note:** this uses MEAN squared error"
   ]
  },
  {
   "cell_type": "code",
   "execution_count": 2,
   "id": "aa89979c",
   "metadata": {},
   "outputs": [
    {
     "ename": "NameError",
     "evalue": "name 'np' is not defined",
     "output_type": "error",
     "traceback": [
      "\u001b[1;31m---------------------------------------------------------------------------\u001b[0m",
      "\u001b[1;31mNameError\u001b[0m                                 Traceback (most recent call last)",
      "Cell \u001b[1;32mIn[2], line 1\u001b[0m\n\u001b[1;32m----> 1\u001b[0m \u001b[39mdef\u001b[39;00m \u001b[39mbackprop_and_loss\u001b[39m(params: \u001b[39mdict\u001b[39m, prediction: np\u001b[39m.\u001b[39mndarray, cache: \u001b[39mdict\u001b[39m, Y : np\u001b[39m.\u001b[39mndarray):\n\u001b[0;32m      2\u001b[0m \u001b[39m    \u001b[39m\u001b[39m\"\"\"\u001b[39;00m\n\u001b[0;32m      3\u001b[0m \u001b[39m    This function will calculate the loss (LSE) of your predictions and the gradient\u001b[39;00m\n\u001b[0;32m      4\u001b[0m \u001b[39m    of your network for a single iteration. To calculate the gradient you must\u001b[39;00m\n\u001b[1;32m   (...)\u001b[0m\n\u001b[0;32m     32\u001b[0m \u001b[39m    \u001b[39;00m\n\u001b[0;32m     33\u001b[0m \u001b[39m    \"\"\"\u001b[39;00m\n\u001b[0;32m     35\u001b[0m     gradient \u001b[39m=\u001b[39m {}\n",
      "\u001b[1;31mNameError\u001b[0m: name 'np' is not defined"
     ]
    }
   ],
   "source": [
    "def backprop_and_loss(params: dict, prediction: np.ndarray, cache: dict, Y : np.ndarray):\n",
    "    \"\"\"\n",
    "    This function will calculate the loss (LSE) of your predictions and the gradient\n",
    "    of your network for a single iteration. To calculate the gradient you must\n",
    "    use backpropogation through your network\n",
    "    ** YOU MUST COMPLETE THE \"sigmoid_backward()\" method for this part **\n",
    "    Parameters\n",
    "    ----------\n",
    "    params : dict\n",
    "        A dictionary that maps the labels: 'W0', 'W1', etc to their respective\n",
    "        weight as well as 'b0', 'b1', etc to the bias\n",
    "        -- this is the current state of your params\n",
    "    prediction : np.ndarray\n",
    "        A 1D numpy array holding the predictions of your network given input X\n",
    "    cache : dict\n",
    "        A dictionary that holds all of the intermittent values calculated during your\n",
    "        forward pass of your network (the 'OUT' and 'A'  of each layer), you must have the\n",
    "        keys of this dictionary be of the form \"AL\" and \"INL\" where \"AL\" representes the input\n",
    "        to the L-th layer of weights and \"OUT(L+1)\" is the output after multiplying by weights in Layer L . \n",
    "        \n",
    "        i.e \"OUT0\" will be the key for exactly the input X and \"A0\" will be (as a special case) also X \n",
    "        generally \"AL\" will be sigma(\"OUTL\")\n",
    "    Y : np.ndarray\n",
    "        A 1D numpy array of the correct labels of our input X\n",
    "    Returns\n",
    "    ---------\n",
    "    gradient : dict\n",
    "        A dictionary that maps the labels: 'W0', 'W1', etc to the gradients of \n",
    "        the respective parameters (eg 'W0' -> gradient of first weight matrix)\n",
    "    loss : float\n",
    "        The MEAN (use np.mean) Squared Error loss given our predictions and true labels 'Y'. \n",
    "    \n",
    "    \"\"\"\n",
    "\n",
    "    gradient = {}\n",
    "\n",
    "    # TODO calculate the gradients of each layer using backprop -- and calculate loss\n",
    "\n",
    "    num_layers = len(params)//2\n",
    "    resid = Y - prediction\n",
    "    dout = (resid * -2)\n",
    "\n",
    "    \n",
    "\n",
    "    for w in range(num_layers):\n",
    "\n",
    "        reverse_index = (num_layers - w) - 1\n",
    "\n",
    "        dw = np.dot(cache[\"A\" + str(reverse_index)].T, dout) # (13,800) (dot) (800,3) = (13,3)\n",
    "        db = np.sum(dout)\n",
    "        dx = np.dot(dout, params[\"W\"+str(reverse_index)].T)  # (1000,1) (dot) (1,9) -> (1000,9)\n",
    "        dout  = sigmoid_backward(cache[\"A\" + str(reverse_index)]) * dx\n",
    "        \n",
    "        gradient[\"W\"+str(reverse_index)] = dw\n",
    "        gradient[\"b\"+str(reverse_index)] = db\n",
    "\n",
    "\n",
    "    loss = np.mean(np.square(resid))\n",
    "\n",
    "    return gradient, loss"
   ]
  },
  {
   "cell_type": "markdown",
   "id": "3102de34",
   "metadata": {},
   "source": [
    "6. Now it’s time to actually do the learning! You must complete the *gradient_descent()* method which will call all of your other methods to find first the prediction, then the loss and gradient. It will then use them to do gradient descent on the entire parameter dictionary (using the corresponding gradients). You’re free to do this however you see fit (as long as it works!)"
   ]
  },
  {
   "cell_type": "code",
   "execution_count": 20,
   "id": "844e0a09",
   "metadata": {},
   "outputs": [],
   "source": [
    "def gradient_descent(X : np.ndarray, Y : np.ndarray, initial_params : dict, lr : float, num_iterations : int)->Tuple[List[float], np.ndarray]:\n",
    "    \"\"\"\n",
    "    This function runs gradient descent for a fixed number of iterations on the\n",
    "    mean squared loss for a linear model parameterized by the weight vector w.\n",
    "    This function returns a list of the losses for each iteration of gradient\n",
    "    descent along with the final weight vector.\n",
    "    Parameters\n",
    "    ----------\n",
    "    X : np.ndarray\n",
    "        A 2D numpy array representing input where each row represents a feature vector\n",
    "    Y : np.ndarray\n",
    "        A 1D numpy array where each element represents a label for MSE\n",
    "    initial_params : dictionary\n",
    "        A dictionary holding the initialization of all parameters of the model as np.ndarrays\n",
    "        (e.g. key 'W0' maps to the first weight array of the neural net) \n",
    "    lr : float\n",
    "        The step-size parameter to use with gradient descent.\n",
    "    num_iterations : int\n",
    "        The number of iterations of gradient descent to run.\n",
    "    Returns\n",
    "    -------\n",
    "    losses : list\n",
    "        A list of floats representing the loss from each iteration and the\n",
    "        loss of the final weight vector\n",
    "    final_params : dictionary \n",
    "        A dictionary holding all of the parameters after training as np.ndarrays\n",
    "        (this should have the same mapping as initial_params, just with updated arrays) \n",
    "    \"\"\"\n",
    "\n",
    "    losses = []\n",
    "    final_params = {}\n",
    "\n",
    "    for n in tqdm(range(num_iterations)):  #tqdm will create a loading bar for your loop\n",
    "        \n",
    "        # TODO Complete this function. It's the whole sh-bang (Gradient Descent)\n",
    "        losses = []\n",
    "        params = initial_params\n",
    "\n",
    "    for n in tqdm(range(num_iterations)):\n",
    "        pred, cache = forward(params, X)\n",
    "        grad, loss = backprop_and_loss(params, pred, cache, Y)\n",
    "        losses.append(loss)\n",
    "        params = update_params(params, grad, lr)\n",
    "  \n",
    "    losses.append(loss)\n",
    "\n",
    "    final_params = params\n",
    "\n",
    "    return losses, final_params\n",
    "\n",
    "def update_params(params: dict, gradient: dict, alpha: float):\n",
    "\n",
    "    for w in range(len(params)//2):\n",
    "        params[\"W\"+str(w)] = params[\"W\"+str(w)] - (alpha * gradient[\"W\"+str(w)])\n",
    "        params[\"b\"+str(w)] = params[\"b\"+str(w)] - (alpha * gradient[\"b\"+str(w)])\n",
    "\n",
    "    return params"
   ]
  },
  {
   "attachments": {},
   "cell_type": "markdown",
   "id": "bfc56d9a",
   "metadata": {},
   "source": [
    "7. Now you can run it! And once you fix the 1000 bugs that you have... you can run it again and hopefully you see something *somewhat* like below – if you do, congrats! You (probably) have it working:\n",
    "\n",
    "<img style=\"display: block; margin: auto;\"\n",
    "src=\"ex_training.png\">\n",
    "<!-- ![alt text](ex_training.png#center) -->\n",
    "\n",
    "\n",
    "\\begin{align}\n",
    "    \\text{Figure 2: Example Learning curve plot with default hyperparameters.}\n",
    "\\end{align}\n",
    "\n",
    "Run both of these blocks and see if your graph looks similar"
   ]
  },
  {
   "cell_type": "code",
   "execution_count": 22,
   "id": "fc6da60e",
   "metadata": {},
   "outputs": [],
   "source": [
    "def learning_curve(losses: list, names : list):\n",
    "    \"\"\"\n",
    "    This function plots the learning curves for all gradient descent procedures in this homework.\n",
    "    The plot is saved in the file learning_curve.png. No TODO here\n",
    "    Parameters\n",
    "    ----------\n",
    "    losses : list\n",
    "        A list of arrays representing the losses for the gradient at each iteration for each run of gradient descent\n",
    "    names : list\n",
    "        A list of strings representing the names for each gradient descent method\n",
    "    Returns\n",
    "    -------\n",
    "    nothing\n",
    "    \"\"\"\n",
    "    for loss in losses:\n",
    "        plt.plot(loss)\n",
    "    plt.xscale(\"log\")\n",
    "    plt.ylim(0, 10000)\n",
    "    plt.xlabel(\"Iterations\")\n",
    "    plt.ylabel(\"Squared Loss\")\n",
    "    plt.title(\"Gradient Descent\")\n",
    "    plt.legend(names)\n",
    "    plt.savefig(\"learning_curve.png\")\n",
    "    plt.show()\n"
   ]
  },
  {
   "cell_type": "code",
   "execution_count": 23,
   "id": "8495880f",
   "metadata": {},
   "outputs": [
    {
     "name": "stderr",
     "output_type": "stream",
     "text": [
      "100%|██████████| 1000/1000 [00:00<?, ?it/s]\n",
      "100%|██████████| 1000/1000 [00:00<00:00, 6514.14it/s]\n",
      "100%|██████████| 1000/1000 [00:00<?, ?it/s]\n",
      "100%|██████████| 1000/1000 [00:00<00:00, 4576.84it/s]\n",
      "100%|██████████| 1000/1000 [00:00<?, ?it/s]\n",
      "100%|██████████| 1000/1000 [00:00<00:00, 3438.09it/s]\n"
     ]
    },
    {
     "name": "stdout",
     "output_type": "stream",
     "text": [
      "final training loss values\n",
      "single layer.........   214.0\n",
      "two layer............   219.0\n",
      "many layer...........   221.5\n"
     ]
    },
    {
     "data": {
      "image/png": "[encoded data removed]",
      "text/plain": [
       "<Figure size 640x480 with 1 Axes>"
      ]
     },
     "metadata": {},
     "output_type": "display_data"
    },
    {
     "name": "stdout",
     "output_type": "stream",
     "text": [
      "test loss of model 1: 135290.86491626845\n",
      "test loss of model 2: 141023.7156232359\n",
      "test loss of model 3: 143078.53164745844\n"
     ]
    }
   ],
   "source": [
    "def main():\n",
    "    Train_X, Train_Y = load_data(\"StudentsPerformance.csv\", \"train\")  # load the data set\n",
    "\n",
    "    N = 1000 # N needs to equal 10,000 for your final plot. You can lower it to tune hyperparameters.\n",
    "\n",
    "    init_params0 = initialize_network([17,3], scale=0.1) # initializes a sigle layer network (perceptron)\n",
    "    losses0, final_params0 = gradient_descent(Train_X, Train_Y, init_params0, lr=1e-6, num_iterations=N)  \n",
    "\n",
    "    init_params1 = initialize_network([17, 5, 3], scale=0.1)  # initializes a two layer network\n",
    "    losses1, final_params1 = gradient_descent(Train_X, Train_Y, init_params1, lr=1e-6, num_iterations=N)  \n",
    "   \n",
    "    init_params2 = initialize_network([17, 7, 3, 3], scale=0.1)  # initializes a many layer network\n",
    "    losses2, final_params2 = gradient_descent(Train_X, Train_Y, init_params2, lr=1e-6, num_iterations=N)   \n",
    "\n",
    "    all_losses = [losses0, losses1, losses2]\n",
    "    names = [\"single layer\", \"two layer\", \"many layer\"]\n",
    "    print(\"final training loss values\")\n",
    "    for name, losses in zip(names, all_losses):\n",
    "        print(\"{0:.<21}{1:>8.1f}\".format(name, float(losses[-1])))\n",
    "\n",
    "    learning_curve(all_losses, names)\n",
    "\n",
    "    # TESTING \n",
    "\n",
    "    Test_X, Test_Y = load_data(\"StudentsPerformance.csv\", \"test\")\n",
    "\n",
    "    pred0, _ = forward(final_params0, Test_X)\n",
    "    test_loss0 = np.sum(np.square(Test_Y  - pred0)) \n",
    "    print(\"test loss of model 1:\", test_loss0)\n",
    "\n",
    "    pred1, _ = forward(final_params1, Test_X)\n",
    "    test_loss1 = np.sum(np.square(Test_Y  - pred1)) \n",
    "    print(\"test loss of model 2:\", test_loss1)\n",
    "\n",
    "    pred2, _ = forward(final_params2, Test_X)\n",
    "    test_loss2 = np.sum(np.square(Test_Y  - pred2)) \n",
    "    print(\"test loss of model 3:\", test_loss2)\n",
    "\n",
    "    # TODO choose the hyper parameters for your best model (change them in train_best_model() )\n",
    "    # You'll have to uncomment the below lines for once you find your best model\n",
    "\n",
    "    # best_losses, best_params = train_best_model(Train_X, Train_Y) \n",
    "    # best_pred, _ = forward(best_params, Test_X)\n",
    "    # best_loss = np.sum(np.square(Test_Y - best_pred)) \n",
    "    # print(\"test loss of your \\\"best\\\" model:\", best_loss)\n",
    "\n",
    "\n",
    "main()"
   ]
  },
  {
   "attachments": {},
   "cell_type": "markdown",
   "id": "f0da1fdc",
   "metadata": {},
   "source": [
    "### 4a) That other bit you forgot about until now (10 points)\n",
    "1. Use *train_best_model()* (you’ll need to find some good hyperparameters) and plot its training alongside the other 3 models (you’ll need to change code in main to plot this) and show it here – Describe your best model and list the values of its hyperparameters here. You should be able to do significantly better than the default, you will be checked for the code you used to find a best model and for the quality of your final loss."
   ]
  },
  {
   "cell_type": "code",
   "execution_count": 1,
   "id": "f258f26e",
   "metadata": {},
   "outputs": [
    {
     "ename": "NameError",
     "evalue": "name 'load_data' is not defined",
     "output_type": "error",
     "traceback": [
      "\u001b[1;31m---------------------------------------------------------------------------\u001b[0m",
      "\u001b[1;31mNameError\u001b[0m                                 Traceback (most recent call last)",
      "Cell \u001b[1;32mIn[1], line 23\u001b[0m\n\u001b[0;32m     19\u001b[0m     learning_curve([best_losses],[\u001b[39m\"\u001b[39m\u001b[39mbest\u001b[39m\u001b[39m\"\u001b[39m])\n\u001b[0;32m     21\u001b[0m     \u001b[39mreturn\u001b[39;00m best_losses, best_final_params\n\u001b[1;32m---> 23\u001b[0m Train_X, Train_Y \u001b[39m=\u001b[39m load_data(\u001b[39m\"\u001b[39m\u001b[39mStudentsPerformance.csv\u001b[39m\u001b[39m\"\u001b[39m, \u001b[39m\"\u001b[39m\u001b[39mtrain\u001b[39m\u001b[39m\"\u001b[39m)  \u001b[39m# load the data set  \u001b[39;00m\n\u001b[0;32m     24\u001b[0m train_best_model(Train_X, Train_Y)\n",
      "\u001b[1;31mNameError\u001b[0m: name 'load_data' is not defined"
     ]
    }
   ],
   "source": [
    "def train_best_model(Train_X, Train_Y):\n",
    "    \"\"\"\n",
    "    This function will train the model with the hyper parameters\n",
    "    and layers that you have found to be best -- this model must get below 3\n",
    "    MSE loss on our test data (which is not the test data you are given)\n",
    "    \"\"\"\n",
    "\n",
    "    # TODO CHANGE THESE VALUES -- you must experiment to find good values\n",
    "    # Maybe you can use a loop to try many!\n",
    "\n",
    "    BEST_SCALE = 1.0              # You need\n",
    "    BEST_LAYERS = [17,3]           # to change\n",
    "    BEST_ALPHA = 1e-7             # these\n",
    "    BEST_NUM_ITERATIONS = 1000    # !\n",
    "\n",
    "    best_params = initialize_network(BEST_LAYERS, BEST_SCALE)\n",
    "    best_losses, best_final_params = gradient_descent(Train_X, Train_Y, best_params, lr=BEST_ALPHA, num_iterations=BEST_NUM_ITERATIONS)\n",
    "\n",
    "    learning_curve([best_losses],[\"best\"])\n",
    "\n",
    "    return best_losses, best_final_params\n",
    "\n",
    "Train_X, Train_Y = load_data(\"StudentsPerformance.csv\", \"train\")  # load the data set  \n",
    "train_best_model(Train_X, Train_Y)"
   ]
  },
  {
   "cell_type": "markdown",
   "id": "ab6306a5",
   "metadata": {},
   "source": []
  },
  {
   "cell_type": "markdown",
   "id": "14038e05",
   "metadata": {},
   "source": [
    "2. Now note the printed test losses (the loss on the test set which isn’t trained on), for the 3 models and your best, show the train loss and test loss. What is the relationship between these, why do you think this is?"
   ]
  },
  {
   "cell_type": "code",
   "execution_count": null,
   "id": "f6bc9e28",
   "metadata": {},
   "outputs": [],
   "source": []
  },
  {
   "cell_type": "markdown",
   "id": "460ea208",
   "metadata": {},
   "source": []
  }
 ],
 "metadata": {
  "kernelspec": {
   "display_name": "Python 3",
   "language": "python",
   "name": "python3"
  },
  "language_info": {
   "codemirror_mode": {
    "name": "ipython",
    "version": 3
   },
   "file_extension": ".py",
   "mimetype": "text/x-python",
   "name": "python",
   "nbconvert_exporter": "python",
   "pygments_lexer": "ipython3",
   "version": "3.10.1"
  },
  "vscode": {
   "interpreter": {
    "hash": "26de051ba29f2982a8de78e945f0abaf191376122a1563185a90213a26c5da77"
   }
  }
 },
 "nbformat": 4,
 "nbformat_minor": 5
}
